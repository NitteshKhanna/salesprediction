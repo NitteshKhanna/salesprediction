{
  "cells": [
    {
      "cell_type": "code",
      "execution_count": null,
      "metadata": {
        "id": "vZEn4m24pwBY"
      },
      "outputs": [],
      "source": [
        "import pandas as pd\n",
        "import numpy as np\n",
        "from sklearn.ensemble import RandomForestRegressor\n",
        "from sklearn.metrics import mean_squared_error, mean_absolute_percentage_error\n",
        "\n"
      ]
    },
    {
      "cell_type": "code",
      "execution_count": null,
      "metadata": {
        "id": "kkJNdVTSp86B"
      },
      "outputs": [],
      "source": [
        "df = pd.read_csv(\"sales_data.csv\")"
      ]
    },
    {
      "cell_type": "code",
      "execution_count": null,
      "metadata": {
        "colab": {
          "base_uri": "https://localhost:8080/"
        },
        "id": "aqL7ZW4YqBHI",
        "outputId": "5379f41e-5366-4f8c-fb82-8b7420700087"
      },
      "outputs": [
        {
          "name": "stderr",
          "output_type": "stream",
          "text": [
            "<ipython-input-46-127e12799def>:1: UserWarning: Parsing dates in DD/MM/YYYY format when dayfirst=False (the default) was specified. This may lead to inconsistently parsed dates! Specify a format to ensure consistent parsing.\n",
            "  df[\"date\"] = pd.to_datetime(df[\"date\"])\n"
          ]
        }
      ],
      "source": [
        "df[\"date\"] = pd.to_datetime(df[\"date\"])\n"
      ]
    },
    {
      "cell_type": "code",
      "execution_count": null,
      "metadata": {
        "id": "z1QpNfW_qbAa"
      },
      "outputs": [],
      "source": [
        "df[\"month\"] = df[\"date\"].dt.month\n",
        "df[\"week\"] = df[\"date\"].dt.isocalendar().week\n",
        "df[\"year\"] = df[\"date\"].dt.year\n",
        "df[\"day\"] = df[\"date\"].dt.day\n"
      ]
    },
    {
      "cell_type": "code",
      "execution_count": null,
      "metadata": {
        "id": "MkmU-_L1qeQ6"
      },
      "outputs": [],
      "source": [
        "df.drop(\"date\", axis=1, inplace=True)"
      ]
    },
    {
      "cell_type": "code",
      "execution_count": null,
      "metadata": {
        "id": "TGyvLF_Nzpa0"
      },
      "outputs": [],
      "source": [
        "X = df.drop(\"sales\", axis=1)\n",
        "y = df[\"sales\"]"
      ]
    },
    {
      "cell_type": "code",
      "execution_count": null,
      "metadata": {
        "id": "v4t1aLU8qhLP"
      },
      "outputs": [],
      "source": [
        "X_train, X_test, y_train, y_test = train_test_split(X, y, test_size=0.2, random_state=42)"
      ]
    },
    {
      "cell_type": "code",
      "execution_count": null,
      "metadata": {
        "id": "-FPKIlztzxD8"
      },
      "outputs": [],
      "source": [
        "rf = RandomForestRegressor(n_estimators=100, max_depth=10, random_state=42)"
      ]
    },
    {
      "cell_type": "code",
      "execution_count": null,
      "metadata": {
        "colab": {
          "base_uri": "https://localhost:8080/",
          "height": 74
        },
        "id": "6xp2ig9Tz2Bb",
        "outputId": "f1f9355c-b725-441b-b01c-c9f838c3dbf9"
      },
      "outputs": [
        {
          "data": {
            "text/html": [
              "<style>#sk-container-id-2 {color: black;background-color: white;}#sk-container-id-2 pre{padding: 0;}#sk-container-id-2 div.sk-toggleable {background-color: white;}#sk-container-id-2 label.sk-toggleable__label {cursor: pointer;display: block;width: 100%;margin-bottom: 0;padding: 0.3em;box-sizing: border-box;text-align: center;}#sk-container-id-2 label.sk-toggleable__label-arrow:before {content: \"▸\";float: left;margin-right: 0.25em;color: #696969;}#sk-container-id-2 label.sk-toggleable__label-arrow:hover:before {color: black;}#sk-container-id-2 div.sk-estimator:hover label.sk-toggleable__label-arrow:before {color: black;}#sk-container-id-2 div.sk-toggleable__content {max-height: 0;max-width: 0;overflow: hidden;text-align: left;background-color: #f0f8ff;}#sk-container-id-2 div.sk-toggleable__content pre {margin: 0.2em;color: black;border-radius: 0.25em;background-color: #f0f8ff;}#sk-container-id-2 input.sk-toggleable__control:checked~div.sk-toggleable__content {max-height: 200px;max-width: 100%;overflow: auto;}#sk-container-id-2 input.sk-toggleable__control:checked~label.sk-toggleable__label-arrow:before {content: \"▾\";}#sk-container-id-2 div.sk-estimator input.sk-toggleable__control:checked~label.sk-toggleable__label {background-color: #d4ebff;}#sk-container-id-2 div.sk-label input.sk-toggleable__control:checked~label.sk-toggleable__label {background-color: #d4ebff;}#sk-container-id-2 input.sk-hidden--visually {border: 0;clip: rect(1px 1px 1px 1px);clip: rect(1px, 1px, 1px, 1px);height: 1px;margin: -1px;overflow: hidden;padding: 0;position: absolute;width: 1px;}#sk-container-id-2 div.sk-estimator {font-family: monospace;background-color: #f0f8ff;border: 1px dotted black;border-radius: 0.25em;box-sizing: border-box;margin-bottom: 0.5em;}#sk-container-id-2 div.sk-estimator:hover {background-color: #d4ebff;}#sk-container-id-2 div.sk-parallel-item::after {content: \"\";width: 100%;border-bottom: 1px solid gray;flex-grow: 1;}#sk-container-id-2 div.sk-label:hover label.sk-toggleable__label {background-color: #d4ebff;}#sk-container-id-2 div.sk-serial::before {content: \"\";position: absolute;border-left: 1px solid gray;box-sizing: border-box;top: 0;bottom: 0;left: 50%;z-index: 0;}#sk-container-id-2 div.sk-serial {display: flex;flex-direction: column;align-items: center;background-color: white;padding-right: 0.2em;padding-left: 0.2em;position: relative;}#sk-container-id-2 div.sk-item {position: relative;z-index: 1;}#sk-container-id-2 div.sk-parallel {display: flex;align-items: stretch;justify-content: center;background-color: white;position: relative;}#sk-container-id-2 div.sk-item::before, #sk-container-id-2 div.sk-parallel-item::before {content: \"\";position: absolute;border-left: 1px solid gray;box-sizing: border-box;top: 0;bottom: 0;left: 50%;z-index: -1;}#sk-container-id-2 div.sk-parallel-item {display: flex;flex-direction: column;z-index: 1;position: relative;background-color: white;}#sk-container-id-2 div.sk-parallel-item:first-child::after {align-self: flex-end;width: 50%;}#sk-container-id-2 div.sk-parallel-item:last-child::after {align-self: flex-start;width: 50%;}#sk-container-id-2 div.sk-parallel-item:only-child::after {width: 0;}#sk-container-id-2 div.sk-dashed-wrapped {border: 1px dashed gray;margin: 0 0.4em 0.5em 0.4em;box-sizing: border-box;padding-bottom: 0.4em;background-color: white;}#sk-container-id-2 div.sk-label label {font-family: monospace;font-weight: bold;display: inline-block;line-height: 1.2em;}#sk-container-id-2 div.sk-label-container {text-align: center;}#sk-container-id-2 div.sk-container {/* jupyter's `normalize.less` sets `[hidden] { display: none; }` but bootstrap.min.css set `[hidden] { display: none !important; }` so we also need the `!important` here to be able to override the default hidden behavior on the sphinx rendered scikit-learn.org. See: https://github.com/scikit-learn/scikit-learn/issues/21755 */display: inline-block !important;position: relative;}#sk-container-id-2 div.sk-text-repr-fallback {display: none;}</style><div id=\"sk-container-id-2\" class=\"sk-top-container\"><div class=\"sk-text-repr-fallback\"><pre>RandomForestRegressor(max_depth=10, random_state=42)</pre><b>In a Jupyter environment, please rerun this cell to show the HTML representation or trust the notebook. <br />On GitHub, the HTML representation is unable to render, please try loading this page with nbviewer.org.</b></div><div class=\"sk-container\" hidden><div class=\"sk-item\"><div class=\"sk-estimator sk-toggleable\"><input class=\"sk-toggleable__control sk-hidden--visually\" id=\"sk-estimator-id-2\" type=\"checkbox\" checked><label for=\"sk-estimator-id-2\" class=\"sk-toggleable__label sk-toggleable__label-arrow\">RandomForestRegressor</label><div class=\"sk-toggleable__content\"><pre>RandomForestRegressor(max_depth=10, random_state=42)</pre></div></div></div></div></div>"
            ],
            "text/plain": [
              "RandomForestRegressor(max_depth=10, random_state=42)"
            ]
          },
          "execution_count": 52,
          "metadata": {},
          "output_type": "execute_result"
        }
      ],
      "source": [
        "rf.fit(X_train, y_train)"
      ]
    },
    {
      "cell_type": "code",
      "execution_count": null,
      "metadata": {
        "id": "7KgrQJe8z5Mv"
      },
      "outputs": [],
      "source": [
        "y_pred = rf.predict(X_test)\n"
      ]
    },
    {
      "cell_type": "code",
      "execution_count": null,
      "metadata": {
        "id": "_hQciiUsz8dq"
      },
      "outputs": [],
      "source": [
        "# Evaluate the model performance using accuracy, mape and mse metrics\n",
        "accuracy = rf.score(X_test, y_test)\n",
        "mape = mean_absolute_percentage_error(y_test, y_pred)\n",
        "mse = mean_squared_error(y_test, y_pred)\n"
      ]
    },
    {
      "cell_type": "code",
      "execution_count": null,
      "metadata": {
        "colab": {
          "base_uri": "https://localhost:8080/"
        },
        "id": "-xXNx177z_rN",
        "outputId": "ea26028b-efd3-49d2-dbf2-4b9f1d9888ef"
      },
      "outputs": [
        {
          "name": "stdout",
          "output_type": "stream",
          "text": [
            "Accuracy: 0.56\n",
            "MAPE: 0.24\n",
            "MSE: 32.39\n"
          ]
        }
      ],
      "source": [
        "print(f\"Accuracy: {accuracy:.2f}\")\n",
        "print(f\"MAPE: {mape:.2f}\")\n",
        "print(f\"MSE: {mse:.2f}\")"
      ]
    },
    {
      "cell_type": "code",
      "execution_count": null,
      "metadata": {
        "id": "E_yaciUk0bxM"
      },
      "outputs": [],
      "source": [
        "df_pred = pd.DataFrame(X_test)\n",
        "df_pred[\"sales_pred\"] = y_pred\n"
      ]
    },
    {
      "cell_type": "code",
      "execution_count": null,
      "metadata": {
        "id": "Ha7AVQu-0h8q"
      },
      "outputs": [],
      "source": [
        "df_pred_monthly = df_pred.groupby(\"month\")[\"sales_pred\"].sum()\n",
        "df_pred_weekly = df_pred.groupby(\"week\")[\"sales_pred\"].sum()\n",
        "df_pred_yearly = df_pred.groupby(\"year\")[\"sales_pred\"].sum()\n",
        "df_pred_daily = df_pred.groupby(\"day\")[\"sales_pred\"].sum()"
      ]
    },
    {
      "cell_type": "code",
      "execution_count": null,
      "metadata": {
        "colab": {
          "base_uri": "https://localhost:8080/"
        },
        "id": "aHwPI7hB0kqo",
        "outputId": "4b3d2599-3c13-49d6-ed04-3b6aca244807"
      },
      "outputs": [
        {
          "name": "stdout",
          "output_type": "stream",
          "text": [
            "Predicted sales by month:\n",
            "month\n",
            "1     3216.255594\n",
            "2     2724.311706\n",
            "3     3485.270542\n",
            "4     4115.470904\n",
            "5     4164.892663\n",
            "6     4072.684197\n",
            "7     4233.071018\n",
            "8     3603.438049\n",
            "9     3572.197615\n",
            "10    3757.749599\n",
            "11    4001.272907\n",
            "12    2973.206745\n",
            "Name: sales_pred, dtype: float64\n",
            "Predicted sales by week:\n",
            "week\n",
            "1      848.119072\n",
            "2      896.821868\n",
            "3      677.380020\n",
            "4      539.526520\n",
            "5      784.382771\n",
            "6      556.940518\n",
            "7      645.818965\n",
            "8      693.290147\n",
            "9      617.051117\n",
            "10    1024.317822\n",
            "11     667.626662\n",
            "12     800.046304\n",
            "13     806.366578\n",
            "14     838.619497\n",
            "15     888.082643\n",
            "16    1097.255323\n",
            "17     989.727673\n",
            "18     927.155089\n",
            "19     808.123350\n",
            "20    1189.094011\n",
            "21    1016.091400\n",
            "22     778.499710\n",
            "23    1201.335309\n",
            "24     772.477981\n",
            "25     833.753508\n",
            "26     919.855164\n",
            "27     888.726691\n",
            "28     923.915881\n",
            "29     916.585136\n",
            "30    1157.330850\n",
            "31     787.652906\n",
            "32     704.604651\n",
            "33    1008.064161\n",
            "34     736.824446\n",
            "35     880.789796\n",
            "36     830.639097\n",
            "37     643.439196\n",
            "38     898.250638\n",
            "39     932.553331\n",
            "40     887.298232\n",
            "41    1123.743407\n",
            "42     697.949501\n",
            "43     860.340072\n",
            "44     528.562292\n",
            "45    1145.379778\n",
            "46     830.762150\n",
            "47    1005.487935\n",
            "48     977.562403\n",
            "49     705.664112\n",
            "50     725.791527\n",
            "51     523.204365\n",
            "52     696.986971\n",
            "53      83.952997\n",
            "Name: sales_pred, dtype: float64\n",
            "Predicted sales by year:\n",
            "year\n",
            "2013    7076.563337\n",
            "2014    9388.041103\n",
            "2015    8529.844725\n",
            "2016    9694.958760\n",
            "2017    9230.413616\n",
            "Name: sales_pred, dtype: float64\n",
            "Predicted sales by day:\n",
            "day\n",
            "1      847.736192\n",
            "2     1288.897670\n",
            "3     1326.782001\n",
            "4     1883.758822\n",
            "5     1768.993016\n",
            "6     1593.030062\n",
            "7     1646.189033\n",
            "8     1779.221217\n",
            "9     1427.619026\n",
            "10    1663.729586\n",
            "11    1216.311615\n",
            "12    1283.179014\n",
            "13    1398.369180\n",
            "14    1021.488945\n",
            "15    1611.300998\n",
            "16    1094.766067\n",
            "17    1447.490377\n",
            "18    1575.604453\n",
            "19    1258.501231\n",
            "20    1443.282008\n",
            "21    1512.965535\n",
            "22    1510.261242\n",
            "23    1680.532135\n",
            "24    1664.426604\n",
            "25    1349.412763\n",
            "26    1710.024140\n",
            "27    1406.191731\n",
            "28    1213.100371\n",
            "29    1097.297298\n",
            "30    1470.785050\n",
            "31     728.574160\n",
            "Name: sales_pred, dtype: float64\n"
          ]
        }
      ],
      "source": [
        "print(\"Predicted sales by month:\")\n",
        "print(df_pred_monthly)\n",
        "print(\"Predicted sales by week:\")\n",
        "print(df_pred_weekly)\n",
        "print(\"Predicted sales by year:\")\n",
        "print(df_pred_yearly)\n",
        "print(\"Predicted sales by day:\")\n",
        "print(df_pred_daily)"
      ]
    }
  ],
  "metadata": {
    "colab": {
      "provenance": []
    },
    "kernelspec": {
      "display_name": "Python 3",
      "name": "python3"
    },
    "language_info": {
      "name": "python"
    }
  },
  "nbformat": 4,
  "nbformat_minor": 0
}
